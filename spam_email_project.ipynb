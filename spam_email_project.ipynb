{
 "cells": [
  {
   "cell_type": "markdown",
   "id": "d3d832d7",
   "metadata": {},
   "source": [
    "# import required libraries"
   ]
  },
  {
   "cell_type": "code",
   "execution_count": 1,
   "id": "6deb107e",
   "metadata": {},
   "outputs": [],
   "source": [
    "import os\n",
    "import pandas as pd\n",
    "import numpy as np\n",
    "import string\n",
    "import nltk\n",
    "from nltk.corpus import stopwords\n",
    "from nltk.tokenize import word_tokenize\n",
    "from sklearn.feature_extraction.text import CountVectorizer\n",
    "from sklearn.model_selection import train_test_split\n",
    "from sklearn.datasets import make_classification\n",
    "from sklearn.feature_selection import SelectKBest, f_classif\n",
    "from sklearn.naive_bayes import MultinomialNB\n",
    "from sklearn.feature_selection import VarianceThreshold\n",
    "from sklearn.naive_bayes import BernoulliNB\n",
    "from sklearn.tree import DecisionTreeClassifier\n",
    "from sklearn.metrics import confusion_matrix\n",
    "from sklearn.metrics import accuracy_score\n",
    "import time"
   ]
  },
  {
   "cell_type": "markdown",
   "id": "b69f29cf",
   "metadata": {},
   "source": [
    "# Load data:"
   ]
  },
  {
   "cell_type": "code",
   "execution_count": 4,
   "id": "644114c3",
   "metadata": {},
   "outputs": [
    {
     "data": {
      "text/html": [
       "<div>\n",
       "<style scoped>\n",
       "    .dataframe tbody tr th:only-of-type {\n",
       "        vertical-align: middle;\n",
       "    }\n",
       "\n",
       "    .dataframe tbody tr th {\n",
       "        vertical-align: top;\n",
       "    }\n",
       "\n",
       "    .dataframe thead th {\n",
       "        text-align: right;\n",
       "    }\n",
       "</style>\n",
       "<table border=\"1\" class=\"dataframe\">\n",
       "  <thead>\n",
       "    <tr style=\"text-align: right;\">\n",
       "      <th></th>\n",
       "      <th>Unnamed: 0</th>\n",
       "      <th>Body</th>\n",
       "      <th>Label</th>\n",
       "    </tr>\n",
       "  </thead>\n",
       "  <tbody>\n",
       "    <tr>\n",
       "      <th>0</th>\n",
       "      <td>0</td>\n",
       "      <td>\\nSave up to 70% on Life Insurance.\\nWhy Spend...</td>\n",
       "      <td>1</td>\n",
       "    </tr>\n",
       "    <tr>\n",
       "      <th>1</th>\n",
       "      <td>1</td>\n",
       "      <td>1) Fight The Risk of Cancer!\\nhttp://www.adcli...</td>\n",
       "      <td>1</td>\n",
       "    </tr>\n",
       "    <tr>\n",
       "      <th>2</th>\n",
       "      <td>2</td>\n",
       "      <td>1) Fight The Risk of Cancer!\\nhttp://www.adcli...</td>\n",
       "      <td>1</td>\n",
       "    </tr>\n",
       "    <tr>\n",
       "      <th>3</th>\n",
       "      <td>3</td>\n",
       "      <td>##############################################...</td>\n",
       "      <td>1</td>\n",
       "    </tr>\n",
       "    <tr>\n",
       "      <th>4</th>\n",
       "      <td>4</td>\n",
       "      <td>I thought you might like these:\\n1) Slim Down ...</td>\n",
       "      <td>1</td>\n",
       "    </tr>\n",
       "  </tbody>\n",
       "</table>\n",
       "</div>"
      ],
      "text/plain": [
       "   Unnamed: 0                                               Body  Label\n",
       "0           0  \\nSave up to 70% on Life Insurance.\\nWhy Spend...      1\n",
       "1           1  1) Fight The Risk of Cancer!\\nhttp://www.adcli...      1\n",
       "2           2  1) Fight The Risk of Cancer!\\nhttp://www.adcli...      1\n",
       "3           3  ##############################################...      1\n",
       "4           4  I thought you might like these:\\n1) Slim Down ...      1"
      ]
     },
     "execution_count": 4,
     "metadata": {},
     "output_type": "execute_result"
    }
   ],
   "source": [
    "df= pd.read_csv('emails.csv')\n",
    "df.head()"
   ]
  },
  {
   "cell_type": "markdown",
   "id": "fdd7616d",
   "metadata": {},
   "source": [
    "# Preprocessing:"
   ]
  },
  {
   "cell_type": "code",
   "execution_count": 5,
   "id": "484f2b07",
   "metadata": {},
   "outputs": [
    {
     "data": {
      "text/plain": [
       "(6046, 3)"
      ]
     },
     "execution_count": 5,
     "metadata": {},
     "output_type": "execute_result"
    }
   ],
   "source": [
    "df.shape"
   ]
  },
  {
   "cell_type": "code",
   "execution_count": 6,
   "id": "d2861d6c",
   "metadata": {},
   "outputs": [
    {
     "data": {
      "text/plain": [
       "(6046, 2)"
      ]
     },
     "execution_count": 6,
     "metadata": {},
     "output_type": "execute_result"
    }
   ],
   "source": [
    "df = df[df.columns[1:]]\n",
    "df.shape"
   ]
  },
  {
   "cell_type": "code",
   "execution_count": 7,
   "id": "affa32f9",
   "metadata": {},
   "outputs": [
    {
     "data": {
      "text/plain": [
       "(5294, 2)"
      ]
     },
     "execution_count": 7,
     "metadata": {},
     "output_type": "execute_result"
    }
   ],
   "source": [
    "df.drop_duplicates(inplace = True)\n",
    "df.shape"
   ]
  },
  {
   "cell_type": "code",
   "execution_count": 8,
   "id": "acfb64a0",
   "metadata": {},
   "outputs": [
    {
     "data": {
      "text/plain": [
       "Body     1\n",
       "Label    0\n",
       "dtype: int64"
      ]
     },
     "execution_count": 8,
     "metadata": {},
     "output_type": "execute_result"
    }
   ],
   "source": [
    "df.isnull().sum()"
   ]
  },
  {
   "cell_type": "code",
   "execution_count": 9,
   "id": "346136fc",
   "metadata": {},
   "outputs": [
    {
     "data": {
      "text/plain": [
       "Body     0\n",
       "Label    0\n",
       "dtype: int64"
      ]
     },
     "execution_count": 9,
     "metadata": {},
     "output_type": "execute_result"
    }
   ],
   "source": [
    "df=df.dropna()\n",
    "df.isnull().sum()"
   ]
  },
  {
   "cell_type": "code",
   "execution_count": 10,
   "id": "e926d891",
   "metadata": {},
   "outputs": [
    {
     "name": "stdout",
     "output_type": "stream",
     "text": [
      "Index(['Body', 'Label'], dtype='object')\n"
     ]
    }
   ],
   "source": [
    "print(df.columns)"
   ]
  },
  {
   "cell_type": "code",
   "execution_count": 11,
   "id": "b1cc3330",
   "metadata": {},
   "outputs": [],
   "source": [
    "#nltk.download('stopwords')\n",
    "#nltk.download('punkt')"
   ]
  },
  {
   "cell_type": "code",
   "execution_count": 12,
   "id": "cfb756c0",
   "metadata": {},
   "outputs": [],
   "source": [
    "def process_text(Body):\n",
    "    nopunc = []\n",
    "    for char in Body:\n",
    "        if char not in string.punctuation:\n",
    "            nopunc.append(char)\n",
    "    nopunc= ''.join(nopunc)\n",
    "    tokens = word_tokenize(nopunc.lower())\n",
    "    clean_word = []\n",
    "    for word in tokens:\n",
    "        if word.lower() not in stopwords.words('english'):\n",
    "            clean_word.append(word)\n",
    "\n",
    "    return clean_word"
   ]
  },
  {
   "cell_type": "code",
   "execution_count": 13,
   "id": "f335a85d",
   "metadata": {},
   "outputs": [
    {
     "data": {
      "text/plain": [
       "0    [save, 70, life, insurance, spend, tolife, quo...\n",
       "1    [1, fight, risk, cancer, httpwwwadclickwspcfmo...\n",
       "2    [1, fight, risk, cancer, httpwwwadclickwspcfmo...\n",
       "3    [adult, club, offers, free, membership, instan...\n",
       "4    [thought, might, like, 1, slim, guaranteed, lo...\n",
       "Name: Body, dtype: object"
      ]
     },
     "execution_count": 13,
     "metadata": {},
     "output_type": "execute_result"
    }
   ],
   "source": [
    "df.Body.head().apply(process_text)"
   ]
  },
  {
   "cell_type": "markdown",
   "id": "7115c977",
   "metadata": {},
   "source": [
    "# Convert Text to Numerics"
   ]
  },
  {
   "cell_type": "code",
   "execution_count": 14,
   "id": "331a1bae",
   "metadata": {},
   "outputs": [
    {
     "data": {
      "text/plain": [
       "(5293, 70237)"
      ]
     },
     "execution_count": 14,
     "metadata": {},
     "output_type": "execute_result"
    }
   ],
   "source": [
    "vectorizer = CountVectorizer()\n",
    "x = vectorizer.fit_transform(df.Body)\n",
    "y = df.Label\n",
    "x.shape"
   ]
  },
  {
   "cell_type": "code",
   "execution_count": 15,
   "id": "6ae1cdcd",
   "metadata": {},
   "outputs": [
    {
     "name": "stdout",
     "output_type": "stream",
     "text": [
      "[[0 0 0 ... 0 0 0]]\n"
     ]
    }
   ],
   "source": [
    "print(x.toarray()[:1])"
   ]
  },
  {
   "cell_type": "markdown",
   "id": "2ddda616",
   "metadata": {},
   "source": [
    "# split data set:"
   ]
  },
  {
   "cell_type": "code",
   "execution_count": 16,
   "id": "88984f65",
   "metadata": {},
   "outputs": [],
   "source": [
    "x_train, x_test, y_train, y_test = train_test_split(x,y, test_size=0.30, random_state=0)"
   ]
  },
  {
   "cell_type": "code",
   "execution_count": 17,
   "id": "2efb1a04",
   "metadata": {},
   "outputs": [],
   "source": [
    "subsample_size = 7000\n",
    "n_features_selected = 700\n",
    "\n",
    "# Select a random subset of features\n",
    "subsample_features = np.random.choice(range(x_train.shape[1]), size=subsample_size, replace=True)\n",
    "\n",
    "x_train_subsampled = x_train[:, subsample_features]\n",
    "x_test_subsampled = x_test[:, subsample_features]"
   ]
  },
  {
   "cell_type": "markdown",
   "id": "4934bd49",
   "metadata": {},
   "source": [
    "# count spam/non_spam values"
   ]
  },
  {
   "cell_type": "code",
   "execution_count": 18,
   "id": "fe15d44f",
   "metadata": {},
   "outputs": [
    {
     "name": "stdout",
     "output_type": "stream",
     "text": [
      "spam =  2728\n",
      "non_spam =  977\n",
      "no_label =  0\n"
     ]
    }
   ],
   "source": [
    "spam_count = 0\n",
    "non_spam_count = 0\n",
    "no_label = 0\n",
    "for label in y_train:\n",
    "    if label == 0:\n",
    "        spam_count += 1\n",
    "    elif label == 1:\n",
    "        non_spam_count += 1\n",
    "    else:\n",
    "        no_label += 1\n",
    "    \n",
    "print(\"spam = \",spam_count)\n",
    "print(\"non_spam = \",non_spam_count)\n",
    "print(\"no_label = \",no_label)"
   ]
  },
  {
   "cell_type": "markdown",
   "id": "f3fbeeae",
   "metadata": {},
   "source": [
    "# Apply BFFS to select the best features"
   ]
  },
  {
   "cell_type": "markdown",
   "id": "fa673d45",
   "metadata": {},
   "source": [
    "\n",
    "start_time=time.time()\n",
    "selector = SelectKBest(f_classif, k=n_features_selected)  \n",
    "selector.fit(x_train_subsampled, y_train)\n",
    "\n",
    "x_train_selected = selector.transform(x_train_subsampled)\n",
    "x_test_selected = selector.transform(x_test_subsampled)\n",
    "print(\"done\")\n",
    "end_time=time.time()\n",
    "exec_time=end_time-start_time\n",
    "print(\"exec time =\",exec_time)"
   ]
  },
  {
   "cell_type": "markdown",
   "id": "1e75754b",
   "metadata": {},
   "source": [
    "# Train and Test using 3 different classifiers:"
   ]
  },
  {
   "cell_type": "code",
   "execution_count": 20,
   "id": "43271fe4",
   "metadata": {},
   "outputs": [
    {
     "name": "stdout",
     "output_type": "stream",
     "text": [
      "accuracy(in %):  91.12090680100756\n",
      "\n",
      "execution time:  0.007998466491699219\n"
     ]
    }
   ],
   "source": [
    "# Train and test a NB classifier on the selected features\n",
    "clf = MultinomialNB()\n",
    "start_time = time.time()\n",
    "clf.fit(x_train_selected, y_train)\n",
    "pred = clf.predict(x_test_selected)\n",
    "accuracy1 = accuracy_score(y_test, pred)\n",
    "\n",
    "print(\"accuracy(in %): \", accuracy1*100)\n",
    "print()\n",
    "# create confusion matrix\n",
    "conf_matrix1 = confusion_matrix(y_test, pred)\n",
    "end_time = time.time()\n",
    "exec_time = end_time - start_time\n",
    "print(\"execution time: \",exec_time)"
   ]
  },
  {
   "cell_type": "code",
   "execution_count": 21,
   "id": "1186b81d",
   "metadata": {},
   "outputs": [
    {
     "name": "stdout",
     "output_type": "stream",
     "text": [
      "Accuracy: 90.99496221662469\n",
      "\n",
      "execution time:  0.007997751235961914\n"
     ]
    }
   ],
   "source": [
    "# train a Bernoulli Naive Bayes classifier on selected features\n",
    "clf = BernoulliNB()\n",
    "start_time = time.time()\n",
    "clf.fit(x_train_selected, y_train)\n",
    "\n",
    "# predict the class labels for the test set\n",
    "pred = clf.predict(x_test_selected)\n",
    "\n",
    "# evaluate the performance of the classifier using accuracy\n",
    "accuracy2 = accuracy_score(y_test, pred)\n",
    "print(\"Accuracy:\", accuracy2*100)\n",
    "print()\n",
    "# create confusion matrix\n",
    "conf_matrix2 = confusion_matrix(y_test, pred)\n",
    "\n",
    "end_time = time.time()\n",
    "exec_time = end_time - start_time\n",
    "print(\"execution time: \",exec_time)"
   ]
  },
  {
   "cell_type": "code",
   "execution_count": 22,
   "id": "f6d6318c",
   "metadata": {},
   "outputs": [
    {
     "name": "stdout",
     "output_type": "stream",
     "text": [
      "Accuracy:  88.16120906801007\n",
      "\n",
      "execution time:  0.18604493141174316\n"
     ]
    }
   ],
   "source": [
    "# train the J48 classifier on selected features\n",
    "clf = DecisionTreeClassifier(random_state=42)\n",
    "start_time = time.time()\n",
    "clf.fit(x_train_selected, y_train)\n",
    "\n",
    "# use the classifier to make predictions on the testing set\n",
    "pred = clf.predict(x_test_selected)\n",
    "\n",
    "# evaluate the accuracy of the classifier\n",
    "accuracy3 = accuracy_score(y_test, pred)\n",
    "print(f\"Accuracy: \",accuracy3*100)\n",
    "print()\n",
    "# create confusion matrix\n",
    "conf_matrix3 = confusion_matrix(y_test, pred)\n",
    "\n",
    "end_time = time.time()\n",
    "exec_time = end_time - start_time\n",
    "print(\"execution time: \",exec_time)"
   ]
  },
  {
   "cell_type": "markdown",
   "id": "3f4ae608",
   "metadata": {},
   "source": [
    "# Accuracy and confusion matrix comparision:"
   ]
  },
  {
   "cell_type": "code",
   "execution_count": 23,
   "id": "b3481eda",
   "metadata": {},
   "outputs": [
    {
     "name": "stdout",
     "output_type": "stream",
     "text": [
      "accuracy with MultinomialNB:  91.12090680100756\n",
      "accuracy with BernoulliNB:    90.99496221662469\n",
      "accuracy with J48:            88.16120906801007\n"
     ]
    }
   ],
   "source": [
    "print(\"accuracy with MultinomialNB: \",accuracy1*100)\n",
    "print(\"accuracy with BernoulliNB:   \", accuracy2*100)\n",
    "print(\"accuracy with J48:           \", accuracy3*100)"
   ]
  },
  {
   "cell_type": "code",
   "execution_count": 24,
   "id": "401f7751",
   "metadata": {},
   "outputs": [
    {
     "name": "stdout",
     "output_type": "stream",
     "text": [
      "confusion matrix of MultinomialNB:\n",
      " [[1144   43]\n",
      " [  98  303]]\n",
      "confusion matrix of BernoulliNB:\n",
      " [[1165   22]\n",
      " [ 121  280]]\n",
      "confusion matrix of J48:\n",
      " [[1087  100]\n",
      " [  88  313]]\n"
     ]
    }
   ],
   "source": [
    "print(\"confusion matrix of MultinomialNB:\\n\",conf_matrix1)\n",
    "print(\"confusion matrix of BernoulliNB:\\n\",conf_matrix2)\n",
    "print(\"confusion matrix of J48:\\n\",conf_matrix3)"
   ]
  },
  {
   "cell_type": "code",
   "execution_count": null,
   "id": "e99ba92e",
   "metadata": {},
   "outputs": [],
   "source": []
  }
 ],
 "metadata": {
  "kernelspec": {
   "display_name": "Python 3 (ipykernel)",
   "language": "python",
   "name": "python3"
  },
  "language_info": {
   "codemirror_mode": {
    "name": "ipython",
    "version": 3
   },
   "file_extension": ".py",
   "mimetype": "text/x-python",
   "name": "python",
   "nbconvert_exporter": "python",
   "pygments_lexer": "ipython3",
   "version": "3.10.11"
  }
 },
 "nbformat": 4,
 "nbformat_minor": 5
}
